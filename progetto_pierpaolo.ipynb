{
 "cells": [
  {
   "cell_type": "code",
   "execution_count": 12,
   "metadata": {},
   "outputs": [
    {
     "ename": "ModuleNotFoundError",
     "evalue": "No module named 'tensorflow'",
     "output_type": "error",
     "traceback": [
      "\u001b[31m---------------------------------------------------------------------------\u001b[39m",
      "\u001b[31mModuleNotFoundError\u001b[39m                       Traceback (most recent call last)",
      "\u001b[36mCell\u001b[39m\u001b[36m \u001b[39m\u001b[32mIn[12]\u001b[39m\u001b[32m, line 1\u001b[39m\n\u001b[32m----> \u001b[39m\u001b[32m1\u001b[39m \u001b[38;5;28;01mimport\u001b[39;00m\u001b[38;5;250m \u001b[39m\u001b[34;01mtensorflow\u001b[39;00m\u001b[38;5;250m \u001b[39m\u001b[38;5;28;01mas\u001b[39;00m\u001b[38;5;250m \u001b[39m\u001b[34;01mtf\u001b[39;00m\n\u001b[32m      2\u001b[39m \u001b[38;5;28;01mfrom\u001b[39;00m\u001b[38;5;250m \u001b[39m\u001b[34;01mtensorflow\u001b[39;00m\u001b[34;01m.\u001b[39;00m\u001b[34;01mkeras\u001b[39;00m\u001b[38;5;250m \u001b[39m\u001b[38;5;28;01mimport\u001b[39;00m datasets, layers, models, applications, Input\n\u001b[32m      3\u001b[39m \u001b[38;5;28;01mimport\u001b[39;00m\u001b[38;5;250m \u001b[39m\u001b[34;01mmatplotlib\u001b[39;00m\u001b[34;01m.\u001b[39;00m\u001b[34;01mpyplot\u001b[39;00m\u001b[38;5;250m \u001b[39m\u001b[38;5;28;01mas\u001b[39;00m\u001b[38;5;250m \u001b[39m\u001b[34;01mplt\u001b[39;00m\n",
      "\u001b[31mModuleNotFoundError\u001b[39m: No module named 'tensorflow'"
     ]
    }
   ],
   "source": [
    "import tensorflow as tf\n",
    "from tensorflow.keras import datasets, layers, models, applications, Input\n",
    "import matplotlib.pyplot as plt\n",
    "import numpy as np\n",
    "\n",
    "\n",
    "# Caricamento del dataset\n",
    "(train_images, train_labels), (test_images, test_labels) = datasets.cifar10.load_data()\n",
    "\n",
    "\n",
    "# Normalizzazione delle immagini (da valori 0-255 a valori tra 0 e 1)\n",
    "train_images = train_images.astype(\"float32\") / 255\n",
    "test_images = test_images.astype(\"float32\") / 255"
   ]
  },
  {
   "cell_type": "code",
   "execution_count": null,
   "metadata": {},
   "outputs": [],
   "source": [
    "print(\"Dataset:\")\n",
    "print(f\"- Training set: {train_images.shape[0]}\") #insieme di dati usato per addestrare il modello di machine learning\n",
    "print(f\"- Test set: {train_images.shape[0]}\") #insieme di dati usato per valutare le prestazioni di un modello di machine learning\n",
    "print(f\"- Dimensione immagini: {train_images.shape[1:]}\") #stampa le dimensioni delle immagini nel training set\n",
    "\n",
    "print(\"CLASSI:\")\n",
    "classi = [\"airplane\", \"automobile\", \"bird\", \"cat\", \"deer\", \"dog\", \"frog\", \"horse\", \"ship\", \"truck\"]\n",
    "\n",
    "#stampo le immagini\n",
    "plt.figure(figsize=(10,10))\n",
    "for i in range(25):\n",
    "    plt.subplot(5,5,i+1)\n",
    "    plt.xticks([])\n",
    "    plt.yticks([])\n",
    "    plt.grid(False)\n",
    "    plt.imshow(train_images[i])\n",
    "    plt.xlabel(classi[train_labels[i][0]])\n",
    "plt.show()"
   ]
  },
  {
   "cell_type": "code",
   "execution_count": null,
   "metadata": {},
   "outputs": [],
   "source": [
    "# Ridefinizione delle etichette per avere un array monodimensionale\n",
    "train_labels = train_labels.flatten()\n",
    "test_labels = test_labels.flatten()\n",
    "\n",
    "# Definizione della rete feed-forward\n",
    "input_layer = layers.Input(shape=(32, 32, 3))\n",
    "x = layers.Flatten()(input_layer)  # Flatten delle immagini\n",
    "x = layers.Dense(256, activation='relu')(x)  # Primo strato denso con più neuroni\n",
    "x = layers.Dense(128, activation='relu')(x)  # Secondo strato denso\n",
    "x = layers.Dense(32, activation='relu')(x)   # Terzo strato più piccolo\n",
    "output_layer = layers.Dense(10, activation='softmax')(x)  # Strato di output\n",
    "\n",
    "# Creazione del modello\n",
    "model = models.Model(inputs=input_layer, outputs=output_layer)\n",
    "\n",
    "# Stampa il sommario del modello\n",
    "model.summary()"
   ]
  },
  {
   "cell_type": "code",
   "execution_count": null,
   "metadata": {},
   "outputs": [],
   "source": [
    "# Compilazione del modello con ottimizzatore e funzione di perdita modificata\n",
    "model.compile(optimizer=tf.keras.optimizers.Adam(learning_rate=0.001),\n",
    "              loss=tf.keras.losses.SparseCategoricalCrossentropy(from_logits=False),\n",
    "              metrics=['accuracy'])\n",
    "\n",
    "epochs = 10\n",
    "# Addestramento del modello con numero di epoche ridotto e batch modificato\n",
    "print(\"Avvio dell'addestramento del modello...\")\n",
    "train_history = model.fit(train_images, train_labels, epochs=epochs, batch_size=32, validation_split=0.3)"
   ]
  },
  {
   "cell_type": "code",
   "execution_count": null,
   "metadata": {},
   "outputs": [],
   "source": [
    "# Visualizzazione delle curve di apprendimento\n",
    "plt.figure(figsize=(10, 5))\n",
    "plt.subplot(1, 2, 1)  # in una griglia 1x2 inserisci in posizione 1\n",
    "plt.plot(range(1, epochs + 1), train_history.history['loss'], label='Training Loss')\n",
    "plt.plot(range(1, epochs + 1), train_history.history['val_loss'], label='Validation Loss')\n",
    "plt.xlabel('Epoch')\n",
    "plt.ylabel('Loss')\n",
    "plt.legend()\n",
    "\n",
    "# Visualizzazione dell'accuracy\n",
    "plt.subplot(1, 2, 2)  # in una griglia 1x2 inserisci in posizione 2\n",
    "plt.plot(range(1, epochs + 1), train_history.history['accuracy'], label='Training Accuracy')\n",
    "plt.plot(range(1, epochs + 1), train_history.history['val_accuracy'], label='Validation Accuracy')\n",
    "plt.xlabel('Epoch')\n",
    "plt.ylabel('Accuracy')\n",
    "plt.legend()\n",
    "plt.show()"
   ]
  },
  {
   "cell_type": "code",
   "execution_count": null,
   "metadata": {},
   "outputs": [],
   "source": [
    "# Valutazione del modello su dati di test\n",
    "test_loss, test_acc = model.evaluate(test_images, test_labels, batch_size=32)\n",
    "print(f\"Dimensione del dataset di test: {test_images.shape}\")\n",
    "print(f\"Accuratezza sul test set: {test_acc:.4f}\")"
   ]
  },
  {
   "cell_type": "code",
   "execution_count": null,
   "metadata": {},
   "outputs": [],
   "source": [
    "#ora inizio la rete convoluzionale\n",
    "# Definizione della rete convoluzionale\n",
    "input_layer = layers.Input(shape=(32, 32, 3))\n",
    "x = layers.Conv2D(filters=64, kernel_size=(3,3), activation='relu', padding='same')(input_layer)\n",
    "x = layers.MaxPooling2D(pool_size=(2,2))(x)\n",
    "x = layers.Conv2D(filters=128, kernel_size=(3,3), activation='relu', padding='same')(x)\n",
    "x = layers.MaxPooling2D(pool_size=(2,2))(x)\n",
    "x = layers.Conv2D(filters=256, kernel_size=(3,3), activation='relu', padding='same')(x)\n",
    "x = layers.GlobalAveragePooling2D()(x)  # GlobalAveragePooling invece di Flatten\n",
    "x = layers.Dense(256, activation='relu')(x)\n",
    "output_layer = layers.Dense(10, activation='softmax')(x)\n",
    "\n",
    "# Creazione del modello\n",
    "model = models.Model(inputs=input_layer, outputs=output_layer)\n",
    "\n",
    "# Stampa il sommario del modello\n",
    "model.summary()"
   ]
  },
  {
   "cell_type": "code",
   "execution_count": null,
   "metadata": {},
   "outputs": [],
   "source": [
    "# Compilazione del modello con ottimizzatore e funzione di perdita modificata\n",
    "model.compile(\n",
    "    optimizer=tf.keras.optimizers.Adam(learning_rate=0.0005),  # Learning rate ridotto\n",
    "    loss=tf.keras.losses.SparseCategoricalCrossentropy(from_logits=False),\n",
    "    metrics=[\"accuracy\"])\n",
    "\n",
    "# Addestramento del modello con batch più piccolo e validation split aumentato\n",
    "cnn_history = model.fit(train_images, train_labels,\n",
    "                    epochs=15, batch_size=64, validation_split=0.3)"
   ]
  }
 ],
 "metadata": {
  "kernelspec": {
   "display_name": "Python 3",
   "language": "python",
   "name": "python3"
  },
  "language_info": {
   "codemirror_mode": {
    "name": "ipython",
    "version": 3
   },
   "file_extension": ".py",
   "mimetype": "text/x-python",
   "name": "python",
   "nbconvert_exporter": "python",
   "pygments_lexer": "ipython3",
   "version": "3.13.2"
  }
 },
 "nbformat": 4,
 "nbformat_minor": 2
}
